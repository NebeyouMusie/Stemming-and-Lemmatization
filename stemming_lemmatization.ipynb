{
  "nbformat": 4,
  "nbformat_minor": 0,
  "metadata": {
    "colab": {
      "provenance": []
    },
    "kernelspec": {
      "name": "python3",
      "display_name": "Python 3"
    },
    "language_info": {
      "name": "python"
    }
  },
  "cells": [
    {
      "cell_type": "markdown",
      "source": [
        "# Stemming and Lemmatization"
      ],
      "metadata": {
        "id": "FMip-BIcM0lb"
      }
    },
    {
      "cell_type": "code",
      "execution_count": 3,
      "metadata": {
        "id": "zx-ciWbwMxGo"
      },
      "outputs": [],
      "source": [
        "# import necessary libraries\n",
        "\n",
        "# nltk\n",
        "import nltk\n",
        "from nltk.stem import PorterStemmer\n",
        "stemmer = PorterStemmer()\n",
        "\n",
        "# download all necessary pacakges related to nltk\n",
        "nltk.download('all')\n",
        "\n",
        "# spacy\n",
        "import spacy\n",
        "nlp = spacy.load('en_core_web_sm')"
      ]
    },
    {
      "cell_type": "markdown",
      "source": [
        "### Problem 1\n",
        "- Convert these list of words into base form using Stemming and Lemmatization and observe the transformations\n",
        "- Write a short note on the words that have different base words using stemming and Lemmatization"
      ],
      "metadata": {
        "id": "42-CFDTvNjhj"
      }
    },
    {
      "cell_type": "code",
      "source": [
        "#using stemming in nltk\n",
        "lst_words = ['running', 'painting', 'walking', 'dressing', 'likely', 'children', 'whom', 'good', 'ate', 'fishing']\n",
        "\n",
        "for token in lst_words:\n",
        "  print(token, ' | ', stemmer.stem(token))\n"
      ],
      "metadata": {
        "colab": {
          "base_uri": "https://localhost:8080/"
        },
        "id": "_c-yqbf4Nxmw",
        "outputId": "23a005b8-0b01-49f6-f797-b7910c7c1118"
      },
      "execution_count": 9,
      "outputs": [
        {
          "output_type": "stream",
          "name": "stdout",
          "text": [
            "running  |  run\n",
            "painting  |  paint\n",
            "walking  |  walk\n",
            "dressing  |  dress\n",
            "likely  |  like\n",
            "children  |  children\n",
            "whom  |  whom\n",
            "good  |  good\n",
            "ate  |  ate\n",
            "fishing  |  fish\n"
          ]
        }
      ]
    },
    {
      "cell_type": "code",
      "source": [
        "#using lemmatization in spacy\n",
        "\n",
        "doc = nlp(\"running painting walking dressing likely children who good ate fishing\")\n",
        "\n",
        "for token in doc:\n",
        "  print(token, ' | ', token.lemma_)"
      ],
      "metadata": {
        "colab": {
          "base_uri": "https://localhost:8080/"
        },
        "id": "KJ7hmUAoO6I_",
        "outputId": "f94a3524-81c1-46f4-bc5a-fefb4fc628d5"
      },
      "execution_count": 10,
      "outputs": [
        {
          "output_type": "stream",
          "name": "stdout",
          "text": [
            "running  |  run\n",
            "painting  |  paint\n",
            "walking  |  walk\n",
            "dressing  |  dress\n",
            "likely  |  likely\n",
            "children  |  child\n",
            "who  |  who\n",
            "good  |  good\n",
            "ate  |  eat\n",
            "fishing  |  fishing\n"
          ]
        }
      ]
    },
    {
      "cell_type": "markdown",
      "source": [
        "### Observations\n",
        "\n",
        "- Words that are different in stemming and lemmatization are:\n",
        "  - painting\n",
        "  - likely\n",
        "  - children\n",
        "  - ate\n",
        "  - fishing\n",
        "- As Stemming achieves the base word by removing the suffixes [ing, ly etc], so it successfully transform the words like 'painting', 'likely', 'fishing' and lemmatization fails for some words ending with suffixes here.\n",
        "\n",
        "- As Lemmatization uses the dictionary meanings while converting to the base form, so words like 'children' and 'ate' are successfully transformed and stemming fails here."
      ],
      "metadata": {
        "id": "azo-_SeZasSZ"
      }
    },
    {
      "cell_type": "markdown",
      "source": [
        "### Problem 2\n",
        "- convert the given text into it's base form using both stemming and lemmatization"
      ],
      "metadata": {
        "id": "zGPuVo-uR4_c"
      }
    },
    {
      "cell_type": "code",
      "source": [
        "text = \"\"\"Latha is very multi talented girl.She is good at many skills like dancing, running, singing, playing.She also likes eating Pav Bhagi. she has a\n",
        "habit of fishing and swimming too.Besides all this, she is a wonderful at cooking too.\n",
        "\"\"\""
      ],
      "metadata": {
        "id": "kYxAhCW8R9gf"
      },
      "execution_count": 15,
      "outputs": []
    },
    {
      "cell_type": "code",
      "source": [
        "#using stemming in nltk\n",
        "\n",
        "\n",
        "#step1: Word tokenizing\n",
        "\n",
        "word_token = nltk.word_tokenize(text)\n",
        "\n",
        "#step2: getting the base form for each token using stemmer\n",
        "base_words = []\n",
        "\n",
        "for token in word_token:\n",
        "  base_word = stemmer.stem(token)\n",
        "  base_words.append(base_word)\n",
        "\n",
        "#step3: joining all words in a list into string using 'join()'\n",
        "final_base_text = ' '.join(base_words)\n",
        "print(final_base_text)"
      ],
      "metadata": {
        "colab": {
          "base_uri": "https://localhost:8080/"
        },
        "id": "t1ieAEELSBvk",
        "outputId": "35eaf650-66c9-4360-c47a-7a5ba6c1da13"
      },
      "execution_count": 21,
      "outputs": [
        {
          "output_type": "stream",
          "name": "stdout",
          "text": [
            "latha is veri multi talent girl.sh is good at mani skill like danc , run , sing , playing.sh also like eat pav bhagi . she ha a habit of fish and swim too.besid all thi , she is a wonder at cook too .\n"
          ]
        }
      ]
    },
    {
      "cell_type": "code",
      "source": [
        "#using lemmatisation in spacy\n",
        "\n",
        "\n",
        "#step1: Creating the object for the given text\n",
        "doc = nlp(text)\n",
        "base_words = []\n",
        "\n",
        "#step2: getting the base form for each token using spacy 'lemma_'\n",
        "\n",
        "for token in doc:\n",
        "  base_word = token.lemma_\n",
        "  base_words.append(base_word)\n",
        "\n",
        "\n",
        "#step3: joining all words in a list into string using 'join()'\n",
        "final_text = ' '.join(base_words)\n",
        "print(final_text)\n"
      ],
      "metadata": {
        "colab": {
          "base_uri": "https://localhost:8080/"
        },
        "id": "C1KRgSxqS9ih",
        "outputId": "85cbdbe2-c095-4e57-d2b5-ac66995e4c76"
      },
      "execution_count": 27,
      "outputs": [
        {
          "output_type": "stream",
          "name": "stdout",
          "text": [
            "Latha be very multi talented girl . she be good at many skill like dancing , running , singing , play . she also like eat Pav Bhagi . she have a \n",
            " habit of fishing and swim too . besides all this , she be a wonderful at cook too . \n",
            "\n"
          ]
        }
      ]
    }
  ]
}